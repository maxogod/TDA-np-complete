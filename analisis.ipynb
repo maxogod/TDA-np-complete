{
 "cells": [
  {
   "cell_type": "markdown",
   "metadata": {},
   "source": [
    "# Analisis de Clase de complejidad del problema"
   ]
  },
  {
   "cell_type": "markdown",
   "metadata": {},
   "source": [
    "### Esta en NP:\n",
    "\n",
    "Este problema pertenece a la clase de complejidades NP ya que existe un verificador que puede checkear la correctitud de una solucion al mismo en tiempo polinomial, como se puede ver a continuacion."
   ]
  },
  {
   "cell_type": "code",
   "execution_count": 7,
   "metadata": {},
   "outputs": [],
   "source": [
    "def verificar(A, B, k, sol):\n",
    "    if len(sol) > k:\n",
    "        return False\n",
    "    \n",
    "    for subconjunto in B:\n",
    "        hit = False\n",
    "        for elem in subconjunto:\n",
    "            if elem in sol:\n",
    "                hit = True\n",
    "                break\n",
    "        if not hit:\n",
    "            return False\n",
    "    \n",
    "    return True"
   ]
  },
  {
   "cell_type": "markdown",
   "metadata": {},
   "source": [
    "La complejidad temporal de este verificador es **O(m\\*n)** ya que se iteran todos los *m* subconjuntos y por cada uno se ven sus elementos que en el peor caso serian *n*. Esta complejidad es polinomial."
   ]
  },
  {
   "cell_type": "markdown",
   "metadata": {},
   "source": [
    "### Esta en NP-Completo:\n",
    "\n",
    "Para demostrar que este problema de Hitting set se encuentra en la clase NP-completo se reducira polinomialmente un problema conocido que este en esa clase a HS, en este caso se hara con el problema Dominating set.\n",
    "\n",
    "* Primeramente para poder hacer que HS resuelva DS hay que adaptar la entrada. Dada una instancia de DS se debera crear un conjunto A con todos los nodos del grafo G (que es parte de dicha instancia), una vez creado ese conjunto habra que crear un nuevo conjunto de conjuntos B, en el que se pondra un subconjunto B_i por cada nodo en G, y ese subconjunto incluira el mismo nodo y todos sus adyacentes. Una vez hechas estas 2 cosas, se le da A, B y el k sin modificar (de la instancia de DS) a una caja negra resolvedora de Hitting set. *Estas transformaciones se hacen en tiempo polinomial ya que para eso basta con usar un recorrido de grafos como bfs.*\n",
    "* La caja negra se ejecutara 1 sola vez, y dara el resultado de Hitting set.\n",
    "* Una vez obtenido el resultado de Hitting set, tendremos un conjunto de nodos que a su vez es exactamente la solucion de Dominating set, esto es porque hitting set se asegurara de seleccionar al menos 1 elemento de cada subconjunto en B lo que es lo mismo que decir que dado un nodo *u* se asegura de seleccionarlo o almenos seleccionar a alguno de sus adyacentes (y eso es lo que busca Dominating set).\n",
    "\n",
    "**Entonces podemos decir que DS <= HS (reduccion polinomica) y por lo tanto HS pertenece a NP-Completo**\n",
    "\n",
    "Aqui se puede ver un ejemplo que demuestra lo dicho:\n",
    "\n",
    "![ejemplo](./utils/ejemplo.png)"
   ]
  },
  {
   "cell_type": "markdown",
   "metadata": {},
   "source": [
    "# Analisis de tiempos del algoritmo"
   ]
  },
  {
   "cell_type": "code",
   "execution_count": 8,
   "metadata": {},
   "outputs": [],
   "source": [
    "\n",
    "from algoritmo_aproximado import hitting_set_greedy\n",
    "from algoritmo_backtracking import obtener_hitting_set\n",
    "from utils.utils import obtener_conjunto_y_subconjuntos\n",
    "from time import time\n",
    "import numpy as np\n",
    "from matplotlib import pyplot as plt\n",
    "import pandas as pd\n",
    "import seaborn as sns\n",
    "\n",
    "def correr_benchmark_optimo(A, B):\n",
    "    \n",
    "    empieza = time()\n",
    "    obtener_hitting_set(A, B)\n",
    "    termina = time()\n",
    "    \n",
    "    return termina - empieza\n",
    "\n",
    "def correr_benchmark_aproximado(A, B):\n",
    "    \n",
    "    empieza = time()\n",
    "    hitting_set_greedy(A,B)\n",
    "    termina = time()\n",
    "    \n",
    "    return termina - empieza\n"
   ]
  },
  {
   "cell_type": "markdown",
   "metadata": {},
   "source": [
    "### Tiempo del algoritmo optimo en funcion de la cantidad de peticiones *n*\n",
    "\n",
    "* En estas pruebas se vera"
   ]
  },
  {
   "cell_type": "code",
   "execution_count": 4,
   "metadata": {},
   "outputs": [
    {
     "ename": "NameError",
     "evalue": "name 'obtener_conjunto_y_subconjuntos' is not defined",
     "output_type": "error",
     "traceback": [
      "\u001b[0;31m---------------------------------------------------------------------------\u001b[0m",
      "\u001b[0;31mNameError\u001b[0m                                 Traceback (most recent call last)",
      "Cell \u001b[0;32mIn[4], line 16\u001b[0m\n\u001b[1;32m     13\u001b[0m     plt\u001b[38;5;241m.\u001b[39mxlabel(\u001b[38;5;124m\"\u001b[39m\u001b[38;5;124mCantidad de peticiones (n)\u001b[39m\u001b[38;5;124m\"\u001b[39m)\n\u001b[1;32m     14\u001b[0m     plt\u001b[38;5;241m.\u001b[39mylabel(\u001b[38;5;124m\"\u001b[39m\u001b[38;5;124mTiempo de ejecucion (s)\u001b[39m\u001b[38;5;124m\"\u001b[39m)\n\u001b[0;32m---> 16\u001b[0m \u001b[43mplottear_tiempos_de_optimo_en_funcion_de_cantidad_de_peticiones\u001b[49m\u001b[43m(\u001b[49m\u001b[43m)\u001b[49m\n",
      "Cell \u001b[0;32mIn[4], line 7\u001b[0m, in \u001b[0;36mplottear_tiempos_de_optimo_en_funcion_de_cantidad_de_peticiones\u001b[0;34m()\u001b[0m\n\u001b[1;32m      5\u001b[0m tiempos \u001b[38;5;241m=\u001b[39m []\n\u001b[1;32m      6\u001b[0m \u001b[38;5;28;01mfor\u001b[39;00m archivo \u001b[38;5;129;01min\u001b[39;00m archivos:\n\u001b[0;32m----> 7\u001b[0m     A, B \u001b[38;5;241m=\u001b[39m \u001b[43mobtener_conjunto_y_subconjuntos\u001b[49m(archivo)\n\u001b[1;32m      8\u001b[0m     tiempos\u001b[38;5;241m.\u001b[39mappend(correr_benchmark_optimo(A, B))\n\u001b[1;32m     10\u001b[0m df \u001b[38;5;241m=\u001b[39m pd\u001b[38;5;241m.\u001b[39mDataFrame(data\u001b[38;5;241m=\u001b[39m{\u001b[38;5;124m\"\u001b[39m\u001b[38;5;124mcantidades\u001b[39m\u001b[38;5;124m\"\u001b[39m: cantidades, \u001b[38;5;124m\"\u001b[39m\u001b[38;5;124mtiempos\u001b[39m\u001b[38;5;124m\"\u001b[39m: tiempos})\n",
      "\u001b[0;31mNameError\u001b[0m: name 'obtener_conjunto_y_subconjuntos' is not defined"
     ]
    }
   ],
   "source": [
    "def plottear_tiempos_de_optimo_en_funcion_de_cantidad_de_peticiones():\n",
    "\n",
    "    archivos = [\"./archivos_prueba/5.txt\", \"./archivos_prueba/10_varios.txt\", \"./archivos_prueba/15.txt\", \"./archivos_prueba/20.txt\", \"./archivos_prueba/50.txt\", \"./archivos_prueba/75.txt\", \"./archivos_prueba/100.txt\", \"./archivos_prueba/150_not_for_testing.txt\", \"./archivos_prueba/175_not_for_testing.txt\", \"./archivos_prueba/200.txt\"]\n",
    "    cantidades = [5, 10, 15, 20, 50, 75, 100, 150, 175, 200]\n",
    "    tiempos = []\n",
    "    for archivo in archivos:\n",
    "        A, B = obtener_conjunto_y_subconjuntos(archivo)\n",
    "        tiempos.append(correr_benchmark_optimo(A, B))\n",
    "\n",
    "    df = pd.DataFrame(data={\"cantidades\": cantidades, \"tiempos\": tiempos})\n",
    "    sns.lmplot(x='cantidades', y='tiempos', data=df, order=2)\n",
    "    plt.title(\"Tiempo en funcion de la cantidad de peticiones\")\n",
    "    plt.xlabel(\"Cantidad de peticiones (n)\")\n",
    "    plt.ylabel(\"Tiempo de ejecucion (s)\")\n",
    "    \n",
    "plottear_tiempos_de_optimo_en_funcion_de_cantidad_de_peticiones()"
   ]
  },
  {
   "cell_type": "markdown",
   "metadata": {},
   "source": [
    "Se puede observar"
   ]
  },
  {
   "cell_type": "markdown",
   "metadata": {},
   "source": [
    "### Tiempo del algoritmo aproximado en funcion de la cantidad de peticiones *n*\n",
    "\n",
    "* En estas pruebas se vera "
   ]
  },
  {
   "cell_type": "code",
   "execution_count": 25,
   "metadata": {},
   "outputs": [
    {
     "name": "stderr",
     "output_type": "stream",
     "text": [
      "Corriendo benchmark:   0%|          | 0/10 [00:00<?, ?it/s]"
     ]
    },
    {
     "name": "stderr",
     "output_type": "stream",
     "text": [
      "Corriendo benchmark: 100%|██████████| 10/10 [00:00<00:00, 17.62it/s]\n"
     ]
    },
    {
     "data": {
      "image/png": "[encoded data removed]",
      "text/plain": [
       "<Figure size 500x500 with 1 Axes>"
      ]
     },
     "metadata": {},
     "output_type": "display_data"
    }
   ],
   "source": [
    "import numpy as np\n",
    "import random\n",
    "from tqdm import tqdm  # Importa tqdm\n",
    "\n",
    "random.seed(7)\n",
    "\n",
    "def n_log_n(n):\n",
    "    return n * np.log(n)\n",
    "MAX_SUBCONJUNTOS = 1000\n",
    "def plottear_tiempos_de_aproximado_en_funcion_de_cantidad_de_peticiones():\n",
    "    # archivos = [\"./archivos_prueba/5.txt\", \"./archivos_prueba/10_varios.txt\", \"./archivos_prueba/15.txt\", \"./archivos_prueba/20.txt\", \"./archivos_prueba/50.txt\", \"./archivos_prueba/75.txt\", \"./archivos_prueba/100.txt\", \"./archivos_prueba/150_not_for_testing.txt\", \"./archivos_prueba/175_not_for_testing.txt\", \"./archivos_prueba/200.txt\"]\n",
    "    cantidades = []\n",
    "    tiempos = []\n",
    "    for i in tqdm(range(1, MAX_SUBCONJUNTOS + 1, 100), desc=\"Corriendo benchmark\"):\n",
    "        cant_a = random.randint(1, i)\n",
    "        cant_b = random.randint(1, i)\n",
    "        A = [j for j in range(cant_a)]\n",
    "        B = []\n",
    "        for i in range(cant_b):\n",
    "            cant = random.randint(1, cant_a)\n",
    "            B.append(random.sample(A, cant))\n",
    "        cantidades.append(i)\n",
    "        tiempos.append(correr_benchmark_aproximado(A, B))\n",
    "\n",
    "\n",
    "    df = pd.DataFrame(data={\"cantidades\": cantidades, \"tiempos\": tiempos})\n",
    "\n",
    "    # Calcula los valores de n(log(n))\n",
    "    # df['n_log_n'] = df['cantidades'].apply(n_log_n)\n",
    "\n",
    "    # Traza la gráfica\n",
    "    df = pd.DataFrame(data={\"cantidades\": cantidades, \"tiempos\": tiempos})\n",
    "    sns.lmplot(x='cantidades', y='tiempos', data=df, order=2)\n",
    "    plt.title(\"Tiempo en funcion de la cantidad de peticiones\")\n",
    "    plt.xlabel(\"Cantidad de peticiones (n)\")\n",
    "    plt.ylabel(\"Tiempo de ejecucion (s)\")\n",
    "    \n",
    "\n",
    "plottear_tiempos_de_aproximado_en_funcion_de_cantidad_de_peticiones()\n"
   ]
  },
  {
   "cell_type": "markdown",
   "metadata": {},
   "source": [
    "En este grafico se puede observar "
   ]
  },
  {
   "cell_type": "markdown",
   "metadata": {},
   "source": [
    "### Ejemplos de ejecucion"
   ]
  },
  {
   "cell_type": "code",
   "execution_count": null,
   "metadata": {},
   "outputs": [],
   "source": []
  }
 ],
 "metadata": {
  "kernelspec": {
   "display_name": "Python 3",
   "language": "python",
   "name": "python3"
  },
  "language_info": {
   "codemirror_mode": {
    "name": "ipython",
    "version": 3
   },
   "file_extension": ".py",
   "mimetype": "text/x-python",
   "name": "python",
   "nbconvert_exporter": "python",
   "pygments_lexer": "ipython3",
   "version": "3.10.12"
  }
 },
 "nbformat": 4,
 "nbformat_minor": 2
}
