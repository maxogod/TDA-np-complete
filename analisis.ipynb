{
 "cells": [
  {
   "cell_type": "markdown",
   "metadata": {},
   "source": [
    "# Analisis de Clase de complejidad del problema"
   ]
  },
  {
   "cell_type": "markdown",
   "metadata": {},
   "source": [
    "### Esta en NP:\n",
    "\n",
    "Este problema pertenece a la clase de complejidades NP ya que existe un verificador que puede checkear la correctitud de una solucion al mismo en tiempo polinomial, como se puede ver a continuacion."
   ]
  },
  {
   "cell_type": "code",
   "execution_count": null,
   "metadata": {},
   "outputs": [],
   "source": [
    "def verificar(A, B, k, sol):\n",
    "    if len(sol) > k:\n",
    "        return False\n",
    "    \n",
    "    for subconjunto in B:\n",
    "        hit = False\n",
    "        for elem in subconjunto:\n",
    "            if elem in sol:\n",
    "                hit = True\n",
    "                break\n",
    "        if not hit:\n",
    "            return False\n",
    "    \n",
    "    return True"
   ]
  },
  {
   "cell_type": "markdown",
   "metadata": {},
   "source": [
    "La complejidad temporal de este verificador es **O(m\\*n)** ya que se iteran todos los *m* subconjuntos y por cada uno se ven sus elementos que en el peor caso serian *n*. Esta complejidad es polinomial."
   ]
  },
  {
   "cell_type": "markdown",
   "metadata": {},
   "source": [
    "### Esta en NP-Completo:\n",
    "\n",
    "Para demostrar que este problema de Hitting set se encuentra en la clase NP-completo se reducira polinomialmente un problema conocido que este en esa clase a HS, en este caso se hara con el problema Dominating set.\n",
    "\n",
    "* Primeramente para poder hacer que HS resuelva DS hay que adaptar la entrada. Dada una instancia de DS se debera crear un conjunto A con todos los nodos del grafo G (que es parte de dicha instancia), una vez creado ese conjunto habra que crear un nuevo conjunto de conjuntos B, en el que se pondra un subconjunto B_i por cada nodo en G, y ese subconjunto incluira el mismo nodo y todos sus adyacentes. Una vez hechas estas 2 cosas, se le da A, B y el k sin modificar (de la instancia de DS) a una caja negra resolvedora de Hitting set. *Estas transformaciones se hacen en tiempo polinomial ya que para eso basta con usar un recorrido de grafos como bfs.*\n",
    "* La caja negra se ejecutara 1 sola vez, y dara el resultado de Hitting set.\n",
    "* Una vez obtenido el resultado de Hitting set, tendremos un conjunto de nodos que a su vez es exactamente la solucion de Dominating set, esto es porque hitting set se asegurara de seleccionar al menos 1 elemento de cada subconjunto en B lo que es lo mismo que decir que dado un nodo *u* se asegura de seleccionarlo o almenos seleccionar a alguno de sus adyacentes (y eso es lo que busca Dominating set).\n",
    "\n",
    "**Entonces podemos decir que DS <= HS (reduccion polinomica) y por lo tanto HS pertenece a NP-Completo**\n",
    "\n",
    "Aqui se puede ver un ejemplo que demuestra lo dicho:\n",
    "\n",
    "![ejemplo](./utils/ejemplo.png)"
   ]
  },
  {
   "cell_type": "markdown",
   "metadata": {},
   "source": [
    "# Analisis de tiempos del algoritmo"
   ]
  },
  {
   "cell_type": "code",
   "execution_count": null,
   "metadata": {},
   "outputs": [],
   "source": []
  },
  {
   "cell_type": "markdown",
   "metadata": {},
   "source": [
    "### Blank\n",
    "\n",
    "* En estas pruebas se vera "
   ]
  },
  {
   "cell_type": "code",
   "execution_count": null,
   "metadata": {},
   "outputs": [],
   "source": []
  },
  {
   "cell_type": "markdown",
   "metadata": {},
   "source": [
    "Se puede observar"
   ]
  },
  {
   "cell_type": "markdown",
   "metadata": {},
   "source": [
    "### Blank\n",
    "\n",
    "* En estas pruebas se vera "
   ]
  },
  {
   "cell_type": "code",
   "execution_count": null,
   "metadata": {},
   "outputs": [],
   "source": []
  },
  {
   "cell_type": "markdown",
   "metadata": {},
   "source": [
    "En este grafico se puede observar "
   ]
  },
  {
   "cell_type": "markdown",
   "metadata": {},
   "source": [
    "### Ejemplos de ejecucion"
   ]
  },
  {
   "cell_type": "code",
   "execution_count": null,
   "metadata": {},
   "outputs": [],
   "source": []
  }
 ],
 "metadata": {
  "kernelspec": {
   "display_name": "Python 3",
   "language": "python",
   "name": "python3"
  },
  "language_info": {
   "codemirror_mode": {
    "name": "ipython",
    "version": 3
   },
   "file_extension": ".py",
   "mimetype": "text/x-python",
   "name": "python",
   "nbconvert_exporter": "python",
   "pygments_lexer": "ipython3",
   "version": "3.10.12"
  }
 },
 "nbformat": 4,
 "nbformat_minor": 2
}
